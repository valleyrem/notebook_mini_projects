{
  "nbformat": 4,
  "nbformat_minor": 0,
  "metadata": {
    "colab": {
      "provenance": [],
      "collapsed_sections": [
        "G6jCkSUCIA7q",
        "3ULmkUViJcHy",
        "7xRa464EJwZ7",
        "eMaG_At2Lhmz",
        "edQsyZX4jUhB",
        "BGMqV1XGA-cp",
        "aGt6O7zVD2Of",
        "WEzTd2RR4a9N",
        "4lpgycVw3Vlo",
        "-mHOL1V5DHfu"
      ],
      "toc_visible": true
    },
    "kernelspec": {
      "name": "python3",
      "display_name": "Python 3"
    },
    "language_info": {
      "name": "python"
    }
  },
  "cells": [
    {
      "cell_type": "markdown",
      "source": [
        "<img src=\"https://upload.wikimedia.org/wikipedia/commons/thumb/2/26/Spotify_logo_with_text.svg/800px-Spotify_logo_with_text.svg.png\" alt=\"Логотип Spotify\" width=\"350\" height=\"100\">\n"
      ],
      "metadata": {
        "id": "Pbl7uf9O2KuH"
      }
    },
    {
      "cell_type": "markdown",
      "source": [
        "# <font color='#1DB954'>**About dataset**</font>\n",
        "\n"
      ],
      "metadata": {
        "id": "G6jCkSUCIA7q"
      }
    },
    {
      "cell_type": "markdown",
      "source": [
        "This dataset contains audio statistics of the top 2000 tracks on Spotify. The data contains about 15 columns each describing the track and it's qualities.\n",
        "Songs released from 1956 to 2019 are included from some notable and famous artists like Queen, The Beatles, Guns N' Roses, etc.\n",
        "\n",
        "\n",
        "---\n",
        "\n",
        "\n",
        "*http://sortyourmusic.playlistmachinery.com/ by https://www.kaggle.com/plamere uses Spotify API to extract the audio features from the tracks given the Spotify Playlist URI. This data contains audio features like Danceability, BPM, Liveness, Valence(Positivity) and many more.*"
      ],
      "metadata": {
        "id": "ZjZNALmmGyUI"
      }
    },
    {
      "cell_type": "code",
      "source": [
        "%%html\n",
        "<marquee style='width: 50%; color: #1DB954; font-size: 20px' scrollamount=\"12\"><b>🎧 This project involves data analysis based on audio statistics of the top 2000 tracks on Spotify 🎧</b></marquee>"
      ],
      "metadata": {
        "colab": {
          "base_uri": "https://localhost:8080/",
          "height": 46
        },
        "id": "As3Lu7_pF33W",
        "outputId": "399142c2-dafa-4fd2-baf3-b7dae5f67ae6"
      },
      "execution_count": null,
      "outputs": [
        {
          "output_type": "display_data",
          "data": {
            "text/plain": [
              "<IPython.core.display.HTML object>"
            ],
            "text/html": [
              "<marquee style='width: 50%; color: #1DB954; font-size: 20px' scrollamount=\"12\"><b>🎧 This project involves data analysis based on audio statistics of the top 2000 tracks on Spotify 🎧</b></marquee>\n"
            ]
          },
          "metadata": {}
        }
      ]
    },
    {
      "cell_type": "markdown",
      "source": [
        "# <font color='#1DB954'>**Pandas** </font>"
      ],
      "metadata": {
        "id": "3ULmkUViJcHy"
      }
    },
    {
      "cell_type": "markdown",
      "source": [
        "##*Some general information about dataset.*\n",
        "\n"
      ],
      "metadata": {
        "id": "7xRa464EJwZ7"
      }
    },
    {
      "cell_type": "code",
      "source": [
        "import pandas as pd"
      ],
      "metadata": {
        "id": "wYhTVI2VKCGH"
      },
      "execution_count": null,
      "outputs": []
    },
    {
      "cell_type": "code",
      "source": [
        "spotify_2000 = pd.read_csv('Spotify-2000.csv')\n",
        "spotify_2000"
      ],
      "metadata": {
        "id": "5X11kPKfKFh2"
      },
      "execution_count": null,
      "outputs": []
    },
    {
      "cell_type": "code",
      "source": [
        "spotify_2000.info()"
      ],
      "metadata": {
        "id": "0qZiT1tyKnaG"
      },
      "execution_count": null,
      "outputs": []
    },
    {
      "cell_type": "code",
      "source": [
        "spotify_2000.shape"
      ],
      "metadata": {
        "id": "ggcBMPXfK6C3"
      },
      "execution_count": null,
      "outputs": []
    },
    {
      "cell_type": "code",
      "source": [
        "spotify_2000.columns"
      ],
      "metadata": {
        "id": "AMx2sckKK9ir"
      },
      "execution_count": null,
      "outputs": []
    },
    {
      "cell_type": "code",
      "source": [
        "spotify_2000.describe()"
      ],
      "metadata": {
        "id": "o6umfljrLC_z"
      },
      "execution_count": null,
      "outputs": []
    },
    {
      "cell_type": "markdown",
      "source": [
        "##*Data extraction, sorting, and grouping.*"
      ],
      "metadata": {
        "id": "eMaG_At2Lhmz"
      }
    },
    {
      "cell_type": "code",
      "source": [
        "sorted(spotify_2000['Artist'].unique()) #unique artists, sorted"
      ],
      "metadata": {
        "id": "eiq3QqZFOLdx"
      },
      "execution_count": null,
      "outputs": []
    },
    {
      "cell_type": "code",
      "source": [
        "spotify_2000['Artist'].nunique() #number of unique"
      ],
      "metadata": {
        "id": "GhhvB2nQRuq3"
      },
      "execution_count": null,
      "outputs": []
    },
    {
      "cell_type": "code",
      "source": [
        "spotify_2000.loc[100] # entry 101 in the dataset"
      ],
      "metadata": {
        "id": "R-so6QALQa6B"
      },
      "execution_count": null,
      "outputs": []
    },
    {
      "cell_type": "code",
      "source": [
        "spotify_2000.head(5) #first 5 entries\n"
      ],
      "metadata": {
        "id": "0Codz1vXRRE9"
      },
      "execution_count": null,
      "outputs": []
    },
    {
      "cell_type": "code",
      "source": [
        "spotify_2000.tail(5) #last 5 entries"
      ],
      "metadata": {
        "id": "c1cjNKKcRdSq"
      },
      "execution_count": null,
      "outputs": []
    },
    {
      "cell_type": "code",
      "source": [
        "spotify_2000.count() #number of entries in comulms"
      ],
      "metadata": {
        "id": "q-fCMmltRiGA"
      },
      "execution_count": null,
      "outputs": []
    },
    {
      "cell_type": "code",
      "source": [
        "max_popularity = spotify_2000['Popularity'].max()\n",
        "max_popularity_record = spotify_2000.loc[spotify_2000['Popularity'] == max_popularity, ['Title', 'Artist', 'Year', 'Popularity']]\n",
        "max_popularity_record"
      ],
      "metadata": {
        "id": "u2pKuWjESIiv"
      },
      "execution_count": null,
      "outputs": []
    },
    {
      "cell_type": "code",
      "source": [
        "min_popularity = spotify_2000['Popularity'].min()\n",
        "min_popularity_record = spotify_2000.loc[spotify_2000['Popularity'] == min_popularity, ['Title', 'Artist', 'Year', 'Popularity']]\n",
        "min_popularity_record"
      ],
      "metadata": {
        "id": "iUpM02qNaPKb"
      },
      "execution_count": null,
      "outputs": []
    },
    {
      "cell_type": "code",
      "source": [
        "later_2000 = spotify_2000[spotify_2000['Year']  > 2000] #song later 2000 year\n",
        "later_2000"
      ],
      "metadata": {
        "id": "0au4JDYobkhb"
      },
      "execution_count": null,
      "outputs": []
    },
    {
      "cell_type": "code",
      "source": [
        "ealier_2000 = spotify_2000[spotify_2000['Year']  < 2000] #song earlier 2000 year\n",
        "ealier_2000"
      ],
      "metadata": {
        "id": "qMQucL3ObNtB"
      },
      "execution_count": null,
      "outputs": []
    },
    {
      "cell_type": "code",
      "source": [
        "max_energy = spotify_2000['Energy'].max()\n",
        "max_energetic_songs = spotify_2000.loc[spotify_2000['Energy'] == max_energy, ['Title', 'Artist', 'Year', 'Popularity']]\n",
        "max_energetic_songs"
      ],
      "metadata": {
        "id": "HOc55VKAcMLb"
      },
      "execution_count": null,
      "outputs": []
    },
    {
      "cell_type": "code",
      "source": [
        "max_bpm = spotify_2000['Beats Per Minute (BPM)'].max()\n",
        "max_bpm_songs = spotify_2000.loc[spotify_2000['Beats Per Minute (BPM)'] == max_bpm, ['Title', 'Artist', 'Year', 'Beats Per Minute (BPM)','Popularity']]\n",
        "max_bpm_songs"
      ],
      "metadata": {
        "id": "J8-D1N1qdnbc"
      },
      "execution_count": null,
      "outputs": []
    },
    {
      "cell_type": "code",
      "source": [
        "max_length = spotify_2000['Length (Duration)'].max()\n",
        "max_length_record = spotify_2000.loc[spotify_2000['Length (Duration)'] == max_length, ['Title', 'Artist', 'Year', 'Length (Duration)', 'Popularity']]\n",
        "max_length_record"
      ],
      "metadata": {
        "id": "QRD-ZjizeZRW"
      },
      "execution_count": null,
      "outputs": []
    },
    {
      "cell_type": "code",
      "source": [
        "min_length = spotify_2000['Length (Duration)'].min()\n",
        "min_length_record = spotify_2000.loc[spotify_2000['Length (Duration)'] == min_length, ['Title', 'Artist', 'Year', 'Length (Duration)', 'Popularity']]\n",
        "min_length_record"
      ],
      "metadata": {
        "id": "6LD47LuYeEvh"
      },
      "execution_count": null,
      "outputs": []
    },
    {
      "cell_type": "code",
      "source": [
        "def combine_songs_and_artists(group):\n",
        "    songs_artists = group[['Title', 'Artist']].values.tolist()\n",
        "    return songs_artists\n",
        "\n",
        "result = spotify_2000.groupby('Top Genre').apply(combine_songs_and_artists)\n",
        "for genre, songs in result.items():\n",
        "    if len(songs) > 0:\n",
        "        genre_songs = '\\n'.join([f\"{song[1]} - {song[0]}\" for song in songs])\n",
        "        print(f'{genre}:\\n{genre_songs}\\n')"
      ],
      "metadata": {
        "id": "ttccTA4QgqeA"
      },
      "execution_count": null,
      "outputs": []
    },
    {
      "cell_type": "code",
      "source": [
        "spotify_2000.duplicated() #finding duplicates"
      ],
      "metadata": {
        "id": "ZHqNAEU5mvg7"
      },
      "execution_count": null,
      "outputs": []
    },
    {
      "cell_type": "code",
      "source": [
        "spotify_2000.isnull() #finding empty values"
      ],
      "metadata": {
        "id": "fM9hPlwQm4D8"
      },
      "execution_count": null,
      "outputs": []
    },
    {
      "cell_type": "markdown",
      "source": [
        "##*Editing the dataset (with copy of dataset)*"
      ],
      "metadata": {
        "id": "edQsyZX4jUhB"
      }
    },
    {
      "cell_type": "code",
      "source": [
        "copy_of_spotify_2000 = spotify_2000.copy()\n",
        "copy_of_spotify_2000"
      ],
      "metadata": {
        "id": "rPw6y6l2jev2"
      },
      "execution_count": null,
      "outputs": []
    },
    {
      "cell_type": "code",
      "source": [
        "# rename column 'Year' and new copy of dataset\n",
        "copy_of_spotify_2000_2 = copy_of_spotify_2000.rename(columns={'Year': 'Year of recording'})\n",
        "copy_of_spotify_2000_2"
      ],
      "metadata": {
        "id": "MNsNXXWDkL8f"
      },
      "execution_count": null,
      "outputs": []
    },
    {
      "cell_type": "code",
      "source": [
        "# delete column 'Energy'\n",
        "copy_of_spotify_2000.drop(columns=['Valence'], inplace=True)\n",
        "copy_of_spotify_2000"
      ],
      "metadata": {
        "id": "SzNVIsTQj55E"
      },
      "execution_count": null,
      "outputs": []
    },
    {
      "cell_type": "code",
      "source": [
        "#change the value of Top Genre of entry 2\n",
        "copy_of_spotify_2000_2.at[2, 'Top Genre'] = 'rock'\n",
        "copy_of_spotify_2000_2"
      ],
      "metadata": {
        "id": "xBsG1Fi2lM4i"
      },
      "execution_count": null,
      "outputs": []
    },
    {
      "cell_type": "markdown",
      "source": [
        "# <font color='#1DB954'>**Matplotlib, Seaborn, Plotly**</font>"
      ],
      "metadata": {
        "id": "BGMqV1XGA-cp"
      }
    },
    {
      "cell_type": "markdown",
      "source": [
        "##*import*"
      ],
      "metadata": {
        "id": "aGt6O7zVD2Of"
      }
    },
    {
      "cell_type": "code",
      "source": [
        "import pandas as pd\n",
        "import matplotlib.pyplot as plt\n",
        "import seaborn as sns\n",
        "import numpy as np\n",
        "import plotly.express as px"
      ],
      "metadata": {
        "id": "oYs1U6XbDpAT"
      },
      "execution_count": null,
      "outputs": []
    },
    {
      "cell_type": "markdown",
      "source": [
        "##*Plotly*"
      ],
      "metadata": {
        "id": "WEzTd2RR4a9N"
      }
    },
    {
      "cell_type": "code",
      "source": [
        "fig = px.sunburst(spotify_2000, path=['Top Genre', 'Artist'], values='Popularity', title='Popularity by Genre and Artist (Plotly)')\n",
        "fig.show()"
      ],
      "metadata": {
        "id": "gInK3nPoB9AG"
      },
      "execution_count": null,
      "outputs": []
    },
    {
      "cell_type": "code",
      "source": [
        "fig = px.bar(spotify_2000, x='Artist', y='Popularity', title='Popularity by Artist (Plotly)', labels={'Artist': 'Artist', 'Popularity': 'Popularity'})\n",
        "fig.show()"
      ],
      "metadata": {
        "id": "1bzh7jzH4q5g"
      },
      "execution_count": null,
      "outputs": []
    },
    {
      "cell_type": "code",
      "source": [
        "fig = px.scatter(spotify_2000, x='Energy', y='Danceability', title='Energy vs Danceability (Plotly)', labels={'Energy': 'Energy', 'Danceability': 'Danceability'})\n",
        "fig.show()\n"
      ],
      "metadata": {
        "id": "7w_xYsDF4hb4"
      },
      "execution_count": null,
      "outputs": []
    },
    {
      "cell_type": "code",
      "source": [
        "fig = px.histogram(spotify_2000, x='Beats Per Minute (BPM)', title='Distribution of Beats Per Minute (BPM)', labels={'Beats Per Minute (BPM)': 'BPM', 'count': 'Frequency'})\n",
        "fig.show()\n"
      ],
      "metadata": {
        "id": "C5qEMSUy4l9d"
      },
      "execution_count": null,
      "outputs": []
    },
    {
      "cell_type": "code",
      "source": [
        "fig = px.line(spotify_2000, x='Year', y='Popularity', title='Popularity over Years (Plotly)', labels={'Year': 'Year', 'Popularity': 'Popularity'})\n",
        "fig.show()\n"
      ],
      "metadata": {
        "id": "r2H-W-b04zSP"
      },
      "execution_count": null,
      "outputs": []
    },
    {
      "cell_type": "code",
      "source": [
        "fig = px.scatter_3d(spotify_2000, x='Energy', y='Danceability', z='Popularity', title='Energy, Danceability, and Popularity (3D Scatter) (Plotly)')\n",
        "fig.show()"
      ],
      "metadata": {
        "id": "rA4kalUTCFWX"
      },
      "execution_count": null,
      "outputs": []
    },
    {
      "cell_type": "code",
      "source": [
        "spotify_2000['Primary Genre'] = spotify_2000['Top Genre'].str.split(',').str[0]\n",
        "genre_popularity = spotify_2000.groupby(['Year', 'Primary Genre'])['Popularity'].mean().reset_index()\n",
        "fig = px.line(genre_popularity, x='Year', y='Popularity', color='Primary Genre', title='Average Popularity by Genre over Years (Plotly)')\n",
        "fig.show()"
      ],
      "metadata": {
        "id": "NSE9OuEwCkb4"
      },
      "execution_count": null,
      "outputs": []
    },
    {
      "cell_type": "code",
      "source": [
        "spotify_2000['Primary Genre'] = spotify_2000['Top Genre'].str.split(',').str[0]\n",
        "artist_genre_popularity = spotify_2000.groupby(['Artist', 'Primary Genre'])['Popularity'].mean().reset_index()\n",
        "fig = px.sunburst(artist_genre_popularity, path=['Primary Genre', 'Artist'], values='Popularity', title='Popularity by Artist and Genre (Plotly)')\n",
        "fig.show()\n"
      ],
      "metadata": {
        "id": "evcMJ45iDDy6"
      },
      "execution_count": null,
      "outputs": []
    },
    {
      "cell_type": "markdown",
      "source": [
        "##*Seaborn*"
      ],
      "metadata": {
        "id": "4lpgycVw3Vlo"
      }
    },
    {
      "cell_type": "code",
      "source": [
        "top_artists = spotify_2000['Artist'].value_counts().head(10)\n",
        "plt.figure(figsize=(8, 4))\n",
        "sns.barplot(x=top_artists.values, y=top_artists.index, palette='viridis')\n",
        "plt.xlabel('Count')\n",
        "plt.ylabel('Artist')\n",
        "plt.title('Top 10 Most Popular Artists (Seaborn)')\n",
        "plt.show()"
      ],
      "metadata": {
        "id": "VTwXmgE7DYC0"
      },
      "execution_count": null,
      "outputs": []
    },
    {
      "cell_type": "code",
      "source": [
        "sns.histplot(data=spotify_2000['Beats Per Minute (BPM)'], color='purple', kde=True)\n",
        "plt.xlabel('BPM')\n",
        "plt.ylabel('Frequency')\n",
        "plt.title('Distribution of Beats Per Minute (BPM) (Seaborn)')\n",
        "plt.gcf().set_size_inches(6, 4)\n",
        "plt.show()"
      ],
      "metadata": {
        "id": "jfdWR_PN4Lnj"
      },
      "execution_count": null,
      "outputs": []
    },
    {
      "cell_type": "code",
      "source": [
        "sns.scatterplot(data=spotify_2000, x='Energy', y='Danceability', color='green')\n",
        "plt.xlabel('Energy')\n",
        "plt.ylabel('Danceability')\n",
        "plt.title('Energy vs Danceability (Seaborn)')\n",
        "plt.gcf().set_size_inches(6, 4)\n",
        "plt.show()"
      ],
      "metadata": {
        "id": "rhvGoz6h3dBg"
      },
      "execution_count": null,
      "outputs": []
    },
    {
      "cell_type": "code",
      "source": [
        "sns.lineplot(data=spotify_2000, x='Year', y='Popularity', color='blue')\n",
        "plt.xlabel('Year')\n",
        "plt.ylabel('Popularity')\n",
        "plt.title('Popularity over Years (Seaborn)')\n",
        "plt.gcf().set_size_inches(6, 4)\n",
        "plt.show()"
      ],
      "metadata": {
        "id": "JyNDGwd34IK_"
      },
      "execution_count": null,
      "outputs": []
    },
    {
      "cell_type": "code",
      "source": [
        "numeric_features = spotify_2000[['Beats Per Minute (BPM)', 'Danceability', 'Loudness (dB)']]\n",
        "sns.pairplot(numeric_features)\n",
        "plt.title('Pair Plot of Numerical Features (Seaborn)')\n",
        "plt.show()\n"
      ],
      "metadata": {
        "id": "QcR1JJZgEnR7"
      },
      "execution_count": null,
      "outputs": []
    },
    {
      "cell_type": "code",
      "source": [
        "plt.figure(figsize=(30, 8))\n",
        "sns.boxplot(data=spotify_2000, x='Top Genre', y='Energy', palette='Set2')\n",
        "plt.xticks(rotation=90)\n",
        "plt.xlabel('Top Genre')\n",
        "plt.ylabel('Energy')\n",
        "plt.title('Energy Distribution by Genre (Seaborn)')\n",
        "plt.show()"
      ],
      "metadata": {
        "id": "FaAEzvMEMRnU"
      },
      "execution_count": null,
      "outputs": []
    },
    {
      "cell_type": "code",
      "source": [
        "plt.figure(figsize=(35, 8))\n",
        "sns.violinplot(data=spotify_2000, x='Top Genre', y='Popularity', hue='Year', split=True, palette='husl')\n",
        "plt.xticks(rotation=90)\n",
        "plt.xlabel('Top Genre')\n",
        "plt.ylabel('Popularity')\n",
        "plt.title('Popularity Distribution by Genre and Year (Seaborn)')\n",
        "plt.legend(title='Year')\n",
        "plt.show()"
      ],
      "metadata": {
        "id": "WCcRTVQaM9r1"
      },
      "execution_count": null,
      "outputs": []
    },
    {
      "cell_type": "markdown",
      "source": [
        "##*Matplotlib*"
      ],
      "metadata": {
        "id": "-mHOL1V5DHfu"
      }
    },
    {
      "cell_type": "code",
      "source": [
        "spotify_2000['Index'].plot(figsize=(4, 1), color='orangered')"
      ],
      "metadata": {
        "id": "e9qoL9v7BG8Q"
      },
      "execution_count": null,
      "outputs": []
    },
    {
      "cell_type": "code",
      "source": [
        "plt.figure(figsize=(10, 6))\n",
        "plt.scatter(spotify_2000['Acousticness'], spotify_2000['Popularity'], c=spotify_2000['Energy'], cmap='coolwarm', alpha=0.6)\n",
        "plt.colorbar(label='Energy')\n",
        "plt.xlabel('Acousticness')\n",
        "plt.ylabel('Popularity')\n",
        "plt.title('Acousticness vs Popularity (Matplotlib)')\n",
        "plt.show()"
      ],
      "metadata": {
        "id": "NNCGIxCZD81a"
      },
      "execution_count": null,
      "outputs": []
    },
    {
      "cell_type": "code",
      "source": [
        "top_artists = spotify_2000['Artist'].value_counts().head(10)\n",
        "\n",
        "plt.figure(figsize=(5, 5))\n",
        "plt.pie(top_artists.values, labels=top_artists.index, autopct='%1.1f%%', startangle=140)\n",
        "plt.axis('equal')\n",
        "plt.title('Top 10 Most Popular Artists (Matplotlib)')\n",
        "plt.show()\n"
      ],
      "metadata": {
        "id": "GuCetTr1EANg"
      },
      "execution_count": null,
      "outputs": []
    },
    {
      "cell_type": "code",
      "source": [
        "plt.gcf().set_size_inches(6, 4)\n",
        "plt.hist(spotify_2000['Beats Per Minute (BPM)'], color='wheat')\n",
        "plt.xlabel('BPM')\n",
        "plt.ylabel('Frequency')\n",
        "plt.title('Distribution of Beats Per Minute (BPM)', color='darkorange')\n",
        "plt.gca().set_box_aspect(0.5)\n",
        "plt.show()"
      ],
      "metadata": {
        "id": "GSUGylzcC0TB"
      },
      "execution_count": null,
      "outputs": []
    },
    {
      "cell_type": "code",
      "source": [
        "plt.scatter(spotify_2000['Energy'], spotify_2000['Danceability'], color='lightgreen')\n",
        "plt.xlabel('Energy')\n",
        "plt.ylabel('Danceability')\n",
        "plt.title('Energy vs Danceability')\n",
        "plt.gcf().set_size_inches(7, 5)\n",
        "plt.show()"
      ],
      "metadata": {
        "id": "yi0f8muVIEry"
      },
      "execution_count": null,
      "outputs": []
    },
    {
      "cell_type": "code",
      "source": [
        "plt.boxplot(spotify_2000['Popularity'])\n",
        "plt.ylabel('Popularity')\n",
        "plt.title('Distribution of Popularity')\n",
        "plt.gcf().set_size_inches(6, 4)\n",
        "plt.show()"
      ],
      "metadata": {
        "id": "yI1VZNI3IRZF"
      },
      "execution_count": null,
      "outputs": []
    },
    {
      "cell_type": "code",
      "source": [
        "plt.plot(spotify_2000['Year'], spotify_2000['Popularity'], color='orange')\n",
        "plt.xlabel('Year')\n",
        "plt.ylabel('Popularity')\n",
        "plt.title('Popularity over Years')\n",
        "plt.gcf().set_size_inches(6, 4)\n",
        "plt.show()"
      ],
      "metadata": {
        "id": "78opfQznIZ8W"
      },
      "execution_count": null,
      "outputs": []
    },
    {
      "cell_type": "code",
      "source": [
        "plt.bar(spotify_2000['Year'], spotify_2000['Popularity'], color='skyblue')\n",
        "plt.xlabel('Year')\n",
        "plt.ylabel('Popularity')\n",
        "plt.title('Popularity by Year (Matplotlib)')\n",
        "plt.show()"
      ],
      "metadata": {
        "id": "tORyxfPdBw2g"
      },
      "execution_count": null,
      "outputs": []
    }
  ]
}